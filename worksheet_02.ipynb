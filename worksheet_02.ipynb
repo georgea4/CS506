{
 "cells": [
  {
   "attachments": {},
   "cell_type": "markdown",
   "metadata": {},
   "source": [
    "# Worksheet 02\n",
    "\n",
    "Name: Alden George \n",
    "UID: U55919227\n",
    "\n",
    "### Topics\n",
    "\n",
    "- Effective Programming\n",
    "\n",
    "### Effective Programming\n",
    "\n",
    "a) What is a drawback of the top down approach?"
   ]
  },
  {
   "cell_type": "markdown",
   "metadata": {},
   "source": [
    "Can lead to increased memory usage due to recursion."
   ]
  },
  {
   "cell_type": "markdown",
   "metadata": {},
   "source": [
    "b) What is a drawback of the bottom up approach?"
   ]
  },
  {
   "cell_type": "markdown",
   "metadata": {},
   "source": [
    "Inflexible and may not be efficient"
   ]
  },
  {
   "cell_type": "markdown",
   "metadata": {},
   "source": [
    "c) What are 3 things you can do to have a better debugging experience?"
   ]
  },
  {
   "cell_type": "markdown",
   "metadata": {},
   "source": [
    "Reread the code, Read the Error, Look Online for some help."
   ]
  },
  {
   "attachments": {},
   "cell_type": "markdown",
   "metadata": {},
   "source": [
    "d) Follow along with the live coding. You can write your code here:"
   ]
  },
  {
   "cell_type": "code",
   "execution_count": null,
   "metadata": {},
   "outputs": [],
   "source": [
    "class Board:\n",
    "    def __init__(self):\n",
    "        self.board = [[\"_\" for _ in range(8)] for _ in range(8)]\n",
    "    def __repr__(self):\n",
    "        for row in self.board:\n",
    "            for col in row:\n",
    "                res +=col\n",
    "                res+= \" \"\n",
    "                res += \"\\n\"\n",
    "        return res \n",
    "    def is_legal_row(self,row,col):\n",
    "        for j in range(len(self.board)):\n",
    "            if self.board[row][j]==\"Q\":\n",
    "                return False\n",
    "        return True\n",
    "    def is_legal_col(self,row,col):\n",
    "        for i in range(len(self.board)):\n",
    "            if self.board[i][col]==\"Q\":\n",
    "                return False\n",
    "        return True\n",
    "    def is_legal(self, row, col):\n",
    "        if not self.is_legal_row(row,col):\n",
    "            return False\n",
    "        if not self.is_legal_row(row,col):\n",
    "            return False\n",
    "        if not self.is_legal_diag(row,col):\n",
    "            return False\n",
    "        return True\n",
    "    def is_on_board(self,row,col):\n",
    "        return row>=0 and row <8 and col>=0 and col<8\n",
    "    def is_legal_diag(self,row,col):\n",
    "        for i in range(len(self.board)):\n",
    "            if self.is_on_board(row-i,col-i) == \"Q\":\n",
    "                return False\n",
    "            if self.is_on_board(row-i,col+i) == \"Q\":\n",
    "                return False\n",
    "            if self.is_on_board(row+i,col-i) == \"Q\":\n",
    "                return False\n",
    "            if self.is_on_board(row+i,col+i) == \"Q\":\n",
    "                return False\n",
    "    def set_queen_at(self, row,col):\n",
    "        self.board[row][col]=\"Q\"\n",
    "    def unset_queenon(self,row):\n",
    "        self.board[row] =[\"- \"for _ in range(8)]\n",
    "        def get_queen_on(self,row):\n",
    "            for col in range(len(self.board)):\n",
    "                if self.board[row][col] == \"Q\":\n",
    "                    return col\n",
    "            raise ValueError(\"programmer error\")\n",
    "    def search(self):\n",
    "        row=0\n",
    "        col=0\n",
    "        \n",
    "        while row <8:\n",
    "            if self.is_legal(row,col):\n",
    "                self.set_queen_at(row, col)\n",
    "                row +=1\n",
    "                col = 0\n",
    "            else:\n",
    "                col +=1\n",
    "                while col >= 8:\n",
    "                    col =self.get_queen_on(row-1)\n",
    "                    self.unset_queen_on(row-1)\n",
    "                    col =0\n",
    "                    row -=1\n",
    "        print(\"Found a Solution\")\n",
    "        print(self)\n",
    "my_board= Board()\n",
    "my_board.search()"
   ]
  },
  {
   "cell_type": "code",
   "execution_count": null,
   "metadata": {},
   "outputs": [],
   "source": []
  }
 ],
 "metadata": {
  "kernelspec": {
   "display_name": "Python 3",
   "language": "python",
   "name": "python3"
  },
  "language_info": {
   "name": "python",
   "version": "3.11.1 (main, Dec  7 2022, 00:00:00) [GCC 12.2.1 20221121 (Red Hat 12.2.1-4)]"
  },
  "orig_nbformat": 4,
  "vscode": {
   "interpreter": {
    "hash": "76ca05dc3ea24b2e3b98cdb7774adfbb40773424bf5109b477fd793f623715af"
   }
  }
 },
 "nbformat": 4,
 "nbformat_minor": 2
}
