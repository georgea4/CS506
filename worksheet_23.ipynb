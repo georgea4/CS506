{
 "cells": [
  {
   "attachments": {},
   "cell_type": "markdown",
   "metadata": {},
   "source": [
    "# Worksheet 23\n",
    "\n",
    "Name:  Alden George\n",
    "UID: U55919227\n",
    "\n",
    "### Topics\n",
    "\n",
    "- Neural Networks\n",
    "\n",
    "## Neural Networks\n",
    "\n",
    "Nothing to do in this worksheet except follow along in lecture / use this code to better understand Neural Networks."
   ]
  },
  {
   "cell_type": "code",
   "execution_count": null,
   "metadata": {},
   "outputs": [],
   "source": [
    "import math\n",
    "import numpy as np\n",
    "import matplotlib.pyplot as plt\n",
    "import sklearn.datasets as datasets\n",
    "from tensorflow import keras, random, stack\n",
    "from tensorflow.keras import layers, initializers\n",
    "from tensorflow.keras.activations import relu\n",
    "\n",
    "# Set random seed for reproducibility\n",
    "np.random.seed(1)\n",
    "random.set_seed(1)\n",
    "\n",
    "# Data generation - don't modify\n",
    "centers = [[0, 0]]\n",
    "t, _ = datasets.make_blobs(n_samples=200, centers=centers, cluster_std=1, random_state=1)\n",
    "colors = np.array([x for x in 'bgrcmyk'])\n",
    "colors = np.hstack([colors] * 20)\n",
    "\n",
    "# Function to generate circle data\n",
    "def generate_circle_data(t):\n",
    "    X = np.array(list(filter(lambda x: (x[0] - centers[0][0])**2 + (x[1] - centers[0][1])**2 < 1 or\n",
    "                                        (x[0] - centers[0][0])**2 + (x[1] - centers[0][1])**2 > 1.5, t)))\n",
    "    Y = np.array([1 if (x[0] - centers[0][0])**2 + (x[1] - centers[0][1])**2 >= 1 else 0 for x in X])\n",
    "    return X, Y\n",
    "\n",
    "# Generate data\n",
    "X, Y = generate_circle_data(t)\n",
    "\n",
    "# Neural network model\n",
    "model = keras.Sequential([\n",
    "    layers.Dense(10, activation=relu, kernel_initializer=initializers.RandomNormal(stddev=0.01)),\n",
    "    layers.Dense(1, activation='sigmoid')\n",
    "])\n",
    "\n",
    "model.compile(optimizer='sgd', loss='binary_crossentropy', metrics=['accuracy'])\n",
    "\n",
    "# Train the model\n",
    "model.fit(X, Y, epochs=100, batch_size=10)\n",
    "\n",
    "# Function to visualize decision boundaries\n",
    "def plot_decision_boundary(X, Y, model):\n",
    "    x_min, x_max = X[:, 0].min() - 0.5, X[:, 0].max() + 1\n",
    "    y_min, y_max = X[:, 1].min() - 0.5, X[:, 1].max() + 1\n",
    "    h = 0.02\n",
    "    xx, yy = np.meshgrid(np.arange(x_min, x_max, h), np.arange(y_min, y_max, h))\n",
    "    Z = model.predict(np.c_[xx.ravel(), yy.ravel()])\n",
    "    Z = np.array([0 if x < 0.5 else 1 for x in Z])\n",
    "    Z = Z.reshape(xx.shape)\n",
    "\n",
    "    plt.contourf(xx, yy, Z, alpha=0.3, cmap=plt.cm.Paired)\n",
    "    plt.scatter(X[:, 0], X[:, 1], c=colors[Y].tolist(), s=100, alpha=0.9)\n",
    "    plt.title(\"Decision Boundary\")\n",
    "    plt.show()\n",
    "\n",
    "# Visualize the decision boundary\n",
    "plot_decision_boundary(X, Y, model)\n"
   ]
  }
 ],
 "metadata": {
  "kernelspec": {
   "display_name": "Python 3",
   "language": "python",
   "name": "python3"
  },
  "language_info": {
   "name": "python",
   "version": "3.11.1"
  },
  "orig_nbformat": 4,
  "vscode": {
   "interpreter": {
    "hash": "e7370f93d1d0cde622a1f8e1c04877d8463912d04d973331ad4851f04de6915a"
   }
  }
 },
 "nbformat": 4,
 "nbformat_minor": 2
}
